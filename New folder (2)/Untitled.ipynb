{
 "cells": [
  {
   "cell_type": "code",
   "execution_count": 1,
   "id": "d1a6f489-fa31-4d86-86b8-2a8cc1fefb73",
   "metadata": {},
   "outputs": [],
   "source": [
    "def v():\n",
    "    list =[7,6,8,36,12,]\n",
    "    list.sort()\n",
    "    print(list)\n",
    "    \n",
    "    "
   ]
  },
  {
   "cell_type": "code",
   "execution_count": 2,
   "id": "8ca0b976-dd38-4567-81c4-8fbbb95794a1",
   "metadata": {},
   "outputs": [
    {
     "name": "stdout",
     "output_type": "stream",
     "text": [
      "[6, 7, 8, 12, 36]\n"
     ]
    }
   ],
   "source": [
    "v()"
   ]
  },
  {
   "cell_type": "code",
   "execution_count": 3,
   "id": "6bcb954c-cf45-49d5-875c-8d465096b7bf",
   "metadata": {},
   "outputs": [
    {
     "ename": "SyntaxError",
     "evalue": "unterminated string literal (detected at line 2) (1397837297.py, line 2)",
     "output_type": "error",
     "traceback": [
      "\u001b[1;36m  Cell \u001b[1;32mIn[3], line 2\u001b[1;36m\u001b[0m\n\u001b[1;33m    st={'mo','bon;]\u001b[0m\n\u001b[1;37m             ^\u001b[0m\n\u001b[1;31mSyntaxError\u001b[0m\u001b[1;31m:\u001b[0m unterminated string literal (detected at line 2)\n"
     ]
    }
   ],
   "source": [
    "def v1():\n",
    "    st={'mo','bon;]\n",
    "    print (SUM,'')\n",
    "        \n",
    "\n"
   ]
  },
  {
   "cell_type": "code",
   "execution_count": 5,
   "id": "0fa8a5ad-69b5-4a47-bf34-452cbf992c25",
   "metadata": {},
   "outputs": [
    {
     "ename": "IndentationError",
     "evalue": "unindent does not match any outer indentation level (<string>, line 20)",
     "output_type": "error",
     "traceback": [
      "\u001b[1;36m  File \u001b[1;32m<string>:20\u001b[1;36m\u001b[0m\n\u001b[1;33m    print (''.join(  lowwer)+''.join(  upper)+''.join(symbol))\u001b[0m\n\u001b[1;37m                                                                     ^\u001b[0m\n\u001b[1;31mIndentationError\u001b[0m\u001b[1;31m:\u001b[0m unindent does not match any outer indentation level\n"
     ]
    }
   ],
   "source": [
    "def v2():       #کمک هم اتاقی\n",
    "    upper =[]\n",
    "    lowwer=[]\n",
    "    symbol=[]\n",
    "    st=['s','e','A','d','#','@']\n",
    "    for i in st:\n",
    "        if i=='s':\n",
    "         lowwer.append(i)  \n",
    "        if i=='e':\n",
    "         lowwer.append(i) \n",
    "        if i=='A':\n",
    "         lowwer.append(i)  \n",
    "        if i=='d':\n",
    "         lowwer.append(i) \n",
    "        if i=='#':\n",
    "         lowwer.append(i)  \n",
    "        if i=='@':\n",
    "         lowwer.append(i)\n",
    "\n",
    " print (''.join(  lowwer)+''.join(  upper)+''.join(symbol))       "
   ]
  },
  {
   "cell_type": "code",
   "execution_count": 8,
   "id": "12ba9676-6de1-4d37-9100-3d63e306af15",
   "metadata": {},
   "outputs": [],
   "source": [
    "def v3():\n",
    "    x=['reza','ail']\n",
    "    y=x\n",
    "    print(x is y) "
   ]
  },
  {
   "cell_type": "code",
   "execution_count": 9,
   "id": "afe2addb-44e3-46fe-93ca-7500f0f44955",
   "metadata": {},
   "outputs": [
    {
     "name": "stdout",
     "output_type": "stream",
     "text": [
      "True\n"
     ]
    }
   ],
   "source": [
    "v3()"
   ]
  },
  {
   "cell_type": "code",
   "execution_count": 12,
   "id": "e432989b-4cc4-4216-9598-2ba2d4bb4708",
   "metadata": {},
   "outputs": [],
   "source": [
    "def v4():\n",
    "    x=['reza','ail']\n",
    "    y=['reza','ail']\n",
    "    print(x is y) "
   ]
  },
  {
   "cell_type": "code",
   "execution_count": 13,
   "id": "84fceecd-1e20-483e-bdf5-f491a762cf47",
   "metadata": {},
   "outputs": [
    {
     "name": "stdout",
     "output_type": "stream",
     "text": [
      "False\n"
     ]
    }
   ],
   "source": [
    "v4()"
   ]
  },
  {
   "cell_type": "code",
   "execution_count": null,
   "id": "fa4fcd84-1cb1-43a7-b7bc-695535de9ce3",
   "metadata": {},
   "outputs": [],
   "source": []
  }
 ],
 "metadata": {
  "kernelspec": {
   "display_name": "Python 3 (ipykernel)",
   "language": "python",
   "name": "python3"
  },
  "language_info": {
   "codemirror_mode": {
    "name": "ipython",
    "version": 3
   },
   "file_extension": ".py",
   "mimetype": "text/x-python",
   "name": "python",
   "nbconvert_exporter": "python",
   "pygments_lexer": "ipython3",
   "version": "3.12.0"
  }
 },
 "nbformat": 4,
 "nbformat_minor": 5
}
